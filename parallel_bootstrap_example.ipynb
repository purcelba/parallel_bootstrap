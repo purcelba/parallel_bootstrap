{
 "cells": [
  {
   "cell_type": "markdown",
   "metadata": {
    "deletable": true,
    "editable": true
   },
   "source": [
    "# parallel_bootstrap example\n",
    "\n",
    "Load example output from parallel_bootstrap.  Five models were fitted to real-estate data obtained using the code in the streeteasy_scrape repository.  The output here was generated using code in bashBoot directory, but identical results can be obtained using code from the sparkBoot directory.  The details of the models are explained in the streeteasy_model repository.  Here, we will plot 95% confidence intervals on the model fit statistics (RMSE and R<sup>2</sup>) to evaluate the statistical significance of differences across models.   "
   ]
  },
  {
   "cell_type": "code",
   "execution_count": 1,
   "metadata": {
    "collapsed": true,
    "deletable": true,
    "editable": true
   },
   "outputs": [],
   "source": [
    "%matplotlib inline\n",
    "import pandas as pd\n",
    "import numpy as np\n",
    "import matplotlib.pyplot as plt\n",
    "import seaborn as sns\n",
    "from parallel_bootstrap import txt2df, predict, rmse_dist, r2_dist"
   ]
  },
  {
   "cell_type": "markdown",
   "metadata": {
    "deletable": true,
    "editable": true
   },
   "source": [
    "Get the distribution of RMSE and R<sup>2</sup> for each model."
   ]
  },
  {
   "cell_type": "code",
   "execution_count": 2,
   "metadata": {
    "collapsed": false,
    "deletable": true,
    "editable": true
   },
   "outputs": [
    {
     "name": "stdout",
     "output_type": "stream",
     "text": [
      "Now analyzing reduced... Finished.\n",
      "Now analyzing scraped... Finished.\n",
      "Now analyzing amen... Finished.\n",
      "Now analyzing trans... Finished.\n",
      "Now analyzing inter... Finished.\n"
     ]
    }
   ],
   "source": [
    "model_list = ['reduced','scraped','amen','trans','inter']\n",
    "coef = {}; info = {}; feats = {}; target = {}; pred = {}; rmse = {}; r2 = {}\n",
    "for m in model_list:\n",
    "    #display\n",
    "    print \"Now analyzing %s...\" % (m),\n",
    "    #format coefficients in dataframe\n",
    "    coef[m], info[m] = txt2df('example_output/bashBoot_output_%s_train.txt' % (m))\n",
    "    #load data\n",
    "    feats_temp = pd.read_csv('bashBoot/data/%s_feats.csv' % (m)).drop('Unnamed: 0',axis=1)\n",
    "    target_temp = pd.read_csv('bashBoot/data/%s_target.csv' % (m)).drop('Unnamed: 0',axis=1)\n",
    "    #reduce to only test set\n",
    "    feats[m]  = feats_temp[feats_temp['test_set'] == 1]\n",
    "    target[m] = target_temp[feats_temp['test_set'] == 1]\n",
    "    #drop column\n",
    "    feats[m] = feats[m].drop('test_set',axis=1)    \n",
    "    #generate predictions\n",
    "    pred[m] = predict(coef[m],feats[m])\n",
    "    #compute rmse distribution over bootstraps\n",
    "    rmse[m] = rmse_dist(target[m]['price'],pred[m])\n",
    "    #compute r2 distribution over bootstraps\n",
    "    r2[m] = r2_dist(target[m]['price'],pred[m])\n",
    "    #print\n",
    "    print \"Finished.\""
   ]
  },
  {
   "cell_type": "markdown",
   "metadata": {
    "deletable": true,
    "editable": true
   },
   "source": [
    "Compute the standard error and 95% confidence intervals (2-tailed) for RMSE and R<sup>2</sup>."
   ]
  },
  {
   "cell_type": "code",
   "execution_count": 3,
   "metadata": {
    "collapsed": false,
    "deletable": true,
    "editable": true
   },
   "outputs": [],
   "source": [
    "rmse_stats = {'mean': np.array([]), 'se': np.array([]), 'LB': np.array([]), 'UB': np.array([])}\n",
    "r2_stats = {'mean': np.array([]), 'se': np.array([]), 'LB': np.array([]), 'UB': np.array([])}\n",
    "for m in model_list:\n",
    "    rmse_stats['mean'] =  np.append(rmse_stats['mean'],np.mean(rmse[m]))\n",
    "    rmse_stats['se'] =  np.append(rmse_stats['se'],np.std(rmse[m]))\n",
    "    rmse_stats['LB'] =  np.append(rmse_stats['LB'],np.percentile(rmse[m],2.5))\n",
    "    rmse_stats['UB'] =  np.append(rmse_stats['UB'],np.percentile(rmse[m],97.5))\n",
    "    r2_stats['mean'] =  np.append(r2_stats['mean'],np.mean(r2[m]))\n",
    "    r2_stats['se'] =  np.append(r2_stats['se'],np.std(r2[m]))\n",
    "    r2_stats['LB'] =  np.append(r2_stats['LB'],np.percentile(r2[m],2.5))\n",
    "    r2_stats['UB'] =  np.append(r2_stats['UB'],np.percentile(r2[m],97.5))\n",
    "    "
   ]
  },
  {
   "cell_type": "markdown",
   "metadata": {
    "deletable": true,
    "editable": true
   },
   "source": [
    "### Summarize in tables"
   ]
  },
  {
   "cell_type": "markdown",
   "metadata": {
    "deletable": true,
    "editable": true
   },
   "source": [
    "RMSE"
   ]
  },
  {
   "cell_type": "code",
   "execution_count": 4,
   "metadata": {
    "collapsed": false,
    "deletable": true,
    "editable": true
   },
   "outputs": [
    {
     "data": {
      "text/html": [
       "<div>\n",
       "<style>\n",
       "    .dataframe thead tr:only-child th {\n",
       "        text-align: right;\n",
       "    }\n",
       "\n",
       "    .dataframe thead th {\n",
       "        text-align: left;\n",
       "    }\n",
       "\n",
       "    .dataframe tbody tr th {\n",
       "        vertical-align: top;\n",
       "    }\n",
       "</style>\n",
       "<table border=\"1\" class=\"dataframe\">\n",
       "  <thead>\n",
       "    <tr style=\"text-align: right;\">\n",
       "      <th></th>\n",
       "      <th>95% CI (lower bound)</th>\n",
       "      <th>95% CI (upper bound)</th>\n",
       "      <th>Mean</th>\n",
       "      <th>Standard error</th>\n",
       "    </tr>\n",
       "  </thead>\n",
       "  <tbody>\n",
       "    <tr>\n",
       "      <th>reduced</th>\n",
       "      <td>1267.360383</td>\n",
       "      <td>1273.886184</td>\n",
       "      <td>1270.647768</td>\n",
       "      <td>1.794453</td>\n",
       "    </tr>\n",
       "    <tr>\n",
       "      <th>scraped</th>\n",
       "      <td>959.515808</td>\n",
       "      <td>964.675980</td>\n",
       "      <td>962.079568</td>\n",
       "      <td>1.316796</td>\n",
       "    </tr>\n",
       "    <tr>\n",
       "      <th>amen</th>\n",
       "      <td>876.808132</td>\n",
       "      <td>881.855295</td>\n",
       "      <td>879.441172</td>\n",
       "      <td>1.438867</td>\n",
       "    </tr>\n",
       "    <tr>\n",
       "      <th>trans</th>\n",
       "      <td>874.117474</td>\n",
       "      <td>879.719122</td>\n",
       "      <td>876.972675</td>\n",
       "      <td>1.539755</td>\n",
       "    </tr>\n",
       "    <tr>\n",
       "      <th>inter</th>\n",
       "      <td>747.381252</td>\n",
       "      <td>855.210794</td>\n",
       "      <td>768.629552</td>\n",
       "      <td>29.178826</td>\n",
       "    </tr>\n",
       "  </tbody>\n",
       "</table>\n",
       "</div>"
      ],
      "text/plain": [
       "         95% CI (lower bound)  95% CI (upper bound)         Mean  \\\n",
       "reduced           1267.360383           1273.886184  1270.647768   \n",
       "scraped            959.515808            964.675980   962.079568   \n",
       "amen               876.808132            881.855295   879.441172   \n",
       "trans              874.117474            879.719122   876.972675   \n",
       "inter              747.381252            855.210794   768.629552   \n",
       "\n",
       "         Standard error  \n",
       "reduced        1.794453  \n",
       "scraped        1.316796  \n",
       "amen           1.438867  \n",
       "trans          1.539755  \n",
       "inter         29.178826  "
      ]
     },
     "execution_count": 4,
     "metadata": {},
     "output_type": "execute_result"
    }
   ],
   "source": [
    "rmse_df = pd.DataFrame(rmse_stats)\n",
    "rmse_df.rename(columns = {'LB': '95% CI (lower bound)', 'UB':'95% CI (upper bound)','mean':'Mean','se':'Standard error'}, inplace = True)\n",
    "rmse_df.rename(index = {0: 'reduced', 1:'scraped',2:'amen',3:'trans',4:'inter'})"
   ]
  },
  {
   "cell_type": "markdown",
   "metadata": {
    "deletable": true,
    "editable": true
   },
   "source": [
    "R<sup>2</sup>"
   ]
  },
  {
   "cell_type": "code",
   "execution_count": 5,
   "metadata": {
    "collapsed": false,
    "deletable": true,
    "editable": true
   },
   "outputs": [
    {
     "data": {
      "text/html": [
       "<div>\n",
       "<style>\n",
       "    .dataframe thead tr:only-child th {\n",
       "        text-align: right;\n",
       "    }\n",
       "\n",
       "    .dataframe thead th {\n",
       "        text-align: left;\n",
       "    }\n",
       "\n",
       "    .dataframe tbody tr th {\n",
       "        vertical-align: top;\n",
       "    }\n",
       "</style>\n",
       "<table border=\"1\" class=\"dataframe\">\n",
       "  <thead>\n",
       "    <tr style=\"text-align: right;\">\n",
       "      <th></th>\n",
       "      <th>95% CI (lower bound)</th>\n",
       "      <th>95% CI (upper bound)</th>\n",
       "      <th>Mean</th>\n",
       "      <th>Standard error</th>\n",
       "    </tr>\n",
       "  </thead>\n",
       "  <tbody>\n",
       "    <tr>\n",
       "      <th>reduced</th>\n",
       "      <td>0.483199</td>\n",
       "      <td>0.488480</td>\n",
       "      <td>0.485822</td>\n",
       "      <td>0.001452</td>\n",
       "    </tr>\n",
       "    <tr>\n",
       "      <th>scraped</th>\n",
       "      <td>0.703636</td>\n",
       "      <td>0.706798</td>\n",
       "      <td>0.705229</td>\n",
       "      <td>0.000807</td>\n",
       "    </tr>\n",
       "    <tr>\n",
       "      <th>amen</th>\n",
       "      <td>0.752339</td>\n",
       "      <td>0.755166</td>\n",
       "      <td>0.753693</td>\n",
       "      <td>0.000806</td>\n",
       "    </tr>\n",
       "    <tr>\n",
       "      <th>trans</th>\n",
       "      <td>0.753538</td>\n",
       "      <td>0.756666</td>\n",
       "      <td>0.755073</td>\n",
       "      <td>0.000860</td>\n",
       "    </tr>\n",
       "    <tr>\n",
       "      <th>inter</th>\n",
       "      <td>0.767013</td>\n",
       "      <td>0.822112</td>\n",
       "      <td>0.811582</td>\n",
       "      <td>0.015657</td>\n",
       "    </tr>\n",
       "  </tbody>\n",
       "</table>\n",
       "</div>"
      ],
      "text/plain": [
       "         95% CI (lower bound)  95% CI (upper bound)      Mean  Standard error\n",
       "reduced              0.483199              0.488480  0.485822        0.001452\n",
       "scraped              0.703636              0.706798  0.705229        0.000807\n",
       "amen                 0.752339              0.755166  0.753693        0.000806\n",
       "trans                0.753538              0.756666  0.755073        0.000860\n",
       "inter                0.767013              0.822112  0.811582        0.015657"
      ]
     },
     "execution_count": 5,
     "metadata": {},
     "output_type": "execute_result"
    }
   ],
   "source": [
    "r2_df = pd.DataFrame(r2_stats)\n",
    "r2_df.rename(columns = {'LB': '95% CI (lower bound)', 'UB':'95% CI (upper bound)','mean':'Mean','se':'Standard error'}, inplace = True)\n",
    "r2_df.rename(index = {0: 'reduced', 1:'scraped',2:'amen',3:'trans',4:'inter'})"
   ]
  },
  {
   "cell_type": "markdown",
   "metadata": {
    "deletable": true,
    "editable": true
   },
   "source": [
    "### Plot with error bars."
   ]
  },
  {
   "cell_type": "markdown",
   "metadata": {
    "deletable": true,
    "editable": true
   },
   "source": [
    "Plot RMSE for each model with standard error bars."
   ]
  },
  {
   "cell_type": "code",
   "execution_count": 6,
   "metadata": {
    "collapsed": false,
    "deletable": true,
    "editable": true
   },
   "outputs": [
    {
     "data": {
      "text/plain": [
       "<matplotlib.text.Text at 0x105052d50>"
      ]
     },
     "execution_count": 6,
     "metadata": {},
     "output_type": "execute_result"
    },
    {
     "data": {
      "image/png": "[encoded data removed]",
      "text/plain": [
       "<matplotlib.figure.Figure at 0x1125250d0>"
      ]
     },
     "metadata": {},
     "output_type": "display_data"
    }
   ],
   "source": [
    "#RMSE bar plot with SE\n",
    "sns.set_style(\"ticks\")\n",
    "sns.set_context(\"notebook\", font_scale=1.5)\n",
    "fig = plt.figure(figsize=(10,6))\n",
    "ax = fig.add_axes([.2,.2,.4,.4])\n",
    "sns.despine()\n",
    "ind = np.arange(1,len(model_list)+1,1)\n",
    "w = 0.9\n",
    "ax.bar(ind,rmse_stats['mean'],yerr = rmse_stats['se'],width = w,\n",
    "       error_kw=dict(ecolor='k',lw=2))\n",
    "ax.set_ylim([600,1300])\n",
    "ax.set_xticks(ind)\n",
    "ax.set_xticklabels(model_list,rotation=60)\n",
    "ax.set_ylabel('RMSE')"
   ]
  },
  {
   "cell_type": "markdown",
   "metadata": {
    "deletable": true,
    "editable": true
   },
   "source": [
    "Plot RMSE for each model with 95% CI error bars."
   ]
  },
  {
   "cell_type": "code",
   "execution_count": 7,
   "metadata": {
    "collapsed": false,
    "deletable": true,
    "editable": true
   },
   "outputs": [
    {
     "data": {
      "text/plain": [
       "<matplotlib.text.Text at 0x170c95390>"
      ]
     },
     "execution_count": 7,
     "metadata": {},
     "output_type": "execute_result"
    },
    {
     "data": {
      "image/png": "[encoded data removed]",
      "text/plain": [
       "<matplotlib.figure.Figure at 0x105056590>"
      ]
     },
     "metadata": {},
     "output_type": "display_data"
    }
   ],
   "source": [
    "#RMSE bar plot with 95% CIs\n",
    "sns.set_style(\"ticks\")\n",
    "fig = plt.figure(figsize=(10,6))\n",
    "ax = fig.add_axes([.2,.2,.4,.4])\n",
    "sns.despine()\n",
    "ind = np.arange(1,len(model_list)+1,1)\n",
    "w = 0.9\n",
    "ax.bar(ind,rmse_stats['mean'],width=w,yerr = [rmse_stats['mean']-rmse_stats['LB'],rmse_stats['UB']-rmse_stats['mean']],\n",
    "       error_kw=dict(ecolor='k',lw=2))\n",
    "ax.set_ylim([600,1300])\n",
    "ax.set_xticks(ind)\n",
    "ax.set_xticklabels(model_list,rotation=60)\n",
    "ax.set_ylabel('RMSE')"
   ]
  },
  {
   "cell_type": "markdown",
   "metadata": {
    "deletable": true,
    "editable": true
   },
   "source": [
    "Plot R<sup>2</sup> for each model with standard error bars."
   ]
  },
  {
   "cell_type": "code",
   "execution_count": 8,
   "metadata": {
    "collapsed": false,
    "deletable": true,
    "editable": true
   },
   "outputs": [
    {
     "data": {
      "text/plain": [
       "<matplotlib.text.Text at 0x1773829d0>"
      ]
     },
     "execution_count": 8,
     "metadata": {},
     "output_type": "execute_result"
    },
    {
     "data": {
      "image/png": "[encoded data removed]",
      "text/plain": [
       "<matplotlib.figure.Figure at 0x170c8b490>"
      ]
     },
     "metadata": {},
     "output_type": "display_data"
    }
   ],
   "source": [
    "sns.set_style(\"ticks\")\n",
    "fig = plt.figure(figsize=(10,6))\n",
    "ax = fig.add_axes([.2,.2,.4,.4])\n",
    "sns.despine()\n",
    "ind = np.arange(1,len(model_list)+1,1)\n",
    "w = 0.9\n",
    "ax.bar(ind,r2_stats['mean'],yerr = [r2_stats['mean']-r2_stats['LB'],r2_stats['UB']-r2_stats['mean']],width=w,\n",
    "       error_kw=dict(ecolor='k',lw=2))\n",
    "ax.set_ylim([0.4,1])\n",
    "ax.set_xticks(ind)\n",
    "ax.set_xticklabels(model_list,rotation=60)\n",
    "ax.set_ylabel('% Varianced explained')"
   ]
  },
  {
   "cell_type": "markdown",
   "metadata": {
    "deletable": true,
    "editable": true
   },
   "source": [
    "Plot R<sup>2</sup> for each model with 95% CI error bars."
   ]
  },
  {
   "cell_type": "code",
   "execution_count": 9,
   "metadata": {
    "collapsed": false,
    "deletable": true,
    "editable": true
   },
   "outputs": [
    {
     "data": {
      "text/plain": [
       "<matplotlib.text.Text at 0x182ad9c10>"
      ]
     },
     "execution_count": 9,
     "metadata": {},
     "output_type": "execute_result"
    },
    {
     "data": {
      "image/png": "[encoded data removed]",
      "text/plain": [
       "<matplotlib.figure.Figure at 0x111d008d0>"
      ]
     },
     "metadata": {},
     "output_type": "display_data"
    }
   ],
   "source": [
    "#RMSE bar plot with SE\n",
    "sns.set_style(\"ticks\")\n",
    "fig = plt.figure(figsize=(10,6))\n",
    "ax = fig.add_axes([.2,.2,.4,.4])\n",
    "sns.despine()\n",
    "ind = np.arange(1,len(model_list)+1,1)\n",
    "w = 0.9\n",
    "ax.bar(ind,r2_stats['mean'],yerr = r2_stats['se'],width = w,\n",
    "       error_kw=dict(ecolor='k',lw=2))\n",
    "ax.set_ylim([.4,1])\n",
    "ax.set_xticks(ind)\n",
    "ax.set_xticklabels(model_list,rotation=60)\n",
    "ax.set_ylabel('% Variance explained')"
   ]
  },
  {
   "cell_type": "markdown",
   "metadata": {},
   "source": [
    "### Feature importance/stability\n",
    "\n",
    "With adequate regulariztion, lasso regression returns a sparse weight vector.  We can use the proportion of times that a particular feature received a non-zero weight as a measure of feature importance/stability.  An important caveat here is that features may be collinear, so we cannot conclude that a feature is not informative just because it is not frequently selected, but a feature that is consistently selected must have some information about the target variable."
   ]
  },
  {
   "cell_type": "code",
   "execution_count": 10,
   "metadata": {
    "collapsed": false,
    "deletable": true,
    "editable": true
   },
   "outputs": [],
   "source": [
    "#compute proportion nonzero coefficients for each feature and sort\n",
    "coef_inter = pd.DataFrame(coef['inter'])\n",
    "p_nonzero = coef_inter.applymap(lambda x:int(x != 0)).apply(sum, axis = 0)/np.shape(coef_inter)[0]\n",
    "p_nonzero = p_nonzero.sort_values()"
   ]
  },
  {
   "cell_type": "markdown",
   "metadata": {},
   "source": [
    "Out of the 2984 features in the model, 1126 are selected >50% of the time.  Features that are rarely or never selected could be dropped to improve efficiency."
   ]
  },
  {
   "cell_type": "code",
   "execution_count": 11,
   "metadata": {
    "collapsed": false,
    "deletable": true,
    "editable": true
   },
   "outputs": [
    {
     "name": "stdout",
     "output_type": "stream",
     "text": [
      "Total features in model: 2984\n",
      "Total features selected >50%: 1126\n"
     ]
    }
   ],
   "source": [
    "#how many selected features at least 50% of time\n",
    "print \"Total features in model: %d\" % (len(p_nonzero))\n",
    "print \"Total features selected >50%%: %d\" % (sum(p_nonzero > 0.5))\n"
   ]
  },
  {
   "cell_type": "markdown",
   "metadata": {},
   "source": [
    "Checking different subsets of features reveals that the basic features (i.e., beds, baths, square feet, days listed, rooms, and unit type) are nearly always selected.   "
   ]
  },
  {
   "cell_type": "code",
   "execution_count": 12,
   "metadata": {
    "collapsed": false,
    "deletable": true,
    "editable": true
   },
   "outputs": [
    {
     "name": "stdout",
     "output_type": "stream",
     "text": [
      "Proportion selected:\n",
      "beds                  1.0\n",
      "baths                 1.0\n",
      "sq_ft                 1.0\n",
      "days_on_streeteasy    1.0\n",
      "rooms                 1.0\n",
      "dtype: float64\n",
      " \n",
      "unit_type_Apartment       0.980198\n",
      "unit_type_Building        1.000000\n",
      "unit_type_Co-op           0.910891\n",
      "unit_type_Condo           0.900990\n",
      "unit_type_Condop          0.900990\n",
      "unit_type_House           0.475248\n",
      "unit_type_Multi-family    0.643564\n",
      "unit_type_Other type      0.198020\n",
      "unit_type_Rental Unit     0.990099\n",
      "unit_type_Townhouse       0.990099\n",
      "dtype: float64\n"
     ]
    }
   ],
   "source": [
    "#check feature importance for basic variables\n",
    "basic_feats = ['beds','baths','sq_ft','days_on_streeteasy','rooms']\n",
    "print 'Proportion selected:'\n",
    "print p_nonzero[basic_feats]\n",
    "#check feature importance of unit type\n",
    "unit_type_list = [i for i in coef_inter.columns if \"unit_type\" in i]\n",
    "print ' '\n",
    "print p_nonzero[unit_type_list]"
   ]
  },
  {
   "cell_type": "markdown",
   "metadata": {},
   "source": [
    "All amenities are nearly always selected, indicating their importance in predicting rental price."
   ]
  },
  {
   "cell_type": "code",
   "execution_count": 13,
   "metadata": {
    "collapsed": false
   },
   "outputs": [
    {
     "name": "stdout",
     "output_type": "stream",
     "text": [
      "bike_room                          0.970297\n",
      "board_approval_required            1.000000\n",
      "cats_and_dogs_allowed              0.960396\n",
      "central_air_conditioning           1.000000\n",
      "concierge                          1.000000\n",
      "cold_storage                       0.990099\n",
      "community_recreation_facilities    0.980198\n",
      "children_playroom                  1.000000\n",
      "deck                               0.960396\n",
      "dishwasher                         1.000000\n",
      "doorman                            1.000000\n",
      "elevator                           1.000000\n",
      "full_time_doorman                  0.970297\n",
      "furnished                          1.000000\n",
      "garage_parking                     1.000000\n",
      "green_building                     1.000000\n",
      "gym                                1.000000\n",
      "garden                             1.000000\n",
      "guarantors_accepted                1.000000\n",
      "laundry_in_building                0.950495\n",
      "live_in_super                      1.000000\n",
      "loft                               1.000000\n",
      "package_room                       1.000000\n",
      "parking_available                  1.000000\n",
      "patio                              1.000000\n",
      "pets_allowed                       1.000000\n",
      "roof_deck                          0.970297\n",
      "smoke_free                         1.000000\n",
      "storage_available                  1.000000\n",
      "sublet                             1.000000\n",
      "terrace                            1.000000\n",
      "virtual_doorman                    1.000000\n",
      "washer_dryer_in_unit               1.000000\n",
      "waterview                          0.871287\n",
      "waterfront                         0.871287\n",
      "dtype: float64\n"
     ]
    }
   ],
   "source": [
    "#check feature importance of amenities\n",
    "#nearly every amenity is consistently selected\n",
    "amen_list = ['bike_room', 'board_approval_required', 'cats_and_dogs_allowed',\n",
    "             'central_air_conditioning', 'concierge', 'cold_storage', 'community_recreation_facilities',\n",
    "             'children_playroom', 'deck', 'dishwasher', 'doorman', 'elevator', 'full_time_doorman',\n",
    "             'furnished', 'garage_parking', 'green_building', 'gym', 'garden', 'guarantors_accepted',\n",
    "             'laundry_in_building', 'live_in_super', 'loft', 'package_room', 'parking_available',\n",
    "             'patio', 'pets_allowed', 'roof_deck', 'smoke_free', 'storage_available', 'sublet',\n",
    "             'terrace', 'virtual_doorman', 'washer_dryer_in_unit', 'waterview', 'waterfront']\n",
    "print p_nonzero[amen_list]"
   ]
  },
  {
   "cell_type": "markdown",
   "metadata": {},
   "source": [
    "Neighborhoods are variable. Some are reliably selected and others are never selected. Neighborhoods that consistently have cofficients of zero may have average prices near the intercept of the model (in which case they are unnecessary) or across-neighborhood differences may be explained through the interaction terms."
   ]
  },
  {
   "cell_type": "code",
   "execution_count": 14,
   "metadata": {
    "collapsed": false
   },
   "outputs": [
    {
     "name": "stdout",
     "output_type": "stream",
     "text": [
      "=======\n",
      "neighborhood_Alley Park              0.000000\n",
      "neighborhood_Annadale                0.000000\n",
      "neighborhood_Arrochar                0.000000\n",
      "neighborhood_Arverne                 0.000000\n",
      "neighborhood_Astoria                 1.000000\n",
      "neighborhood_Auburndale              0.000000\n",
      "neighborhood_Bath Beach              0.118812\n",
      "neighborhood_Battery Park City       1.000000\n",
      "neighborhood_Bay Ridge               0.950495\n",
      "neighborhood_Bay Terrace (Queens)    0.009901\n",
      "neighborhood_Baychester              0.000000\n",
      "neighborhood_Bayside                 0.019802\n",
      "neighborhood_Bayswater               0.000000\n",
      "neighborhood_Bedford Park            0.782178\n",
      "neighborhood_Bedford-Stuyvesant      1.000000\n",
      "neighborhood_Beechhurst              0.000000\n",
      "neighborhood_Beekman                 0.920792\n",
      "neighborhood_Belle Harbor            0.000000\n",
      "neighborhood_Bellerose               0.000000\n",
      "neighborhood_Belmont                 0.000000\n",
      "neighborhood_Bensonhurst             0.000000\n",
      "neighborhood_Bergen Beach            0.000000\n",
      "neighborhood_Boerum Hill             0.584158\n",
      "neighborhood_Borough Park            0.000000\n",
      "neighborhood_Briarwood               0.158416\n",
      "neighborhood_Brighton Beach          0.000000\n",
      "neighborhood_Bronx                   0.000000\n",
      "neighborhood_Bronxdale               0.000000\n",
      "neighborhood_Bronxwood               0.000000\n",
      "neighborhood_Brooklyn                0.000000\n",
      "                                       ...   \n",
      "neighborhood_Tribeca                 1.000000\n",
      "neighborhood_Turtle Bay              1.000000\n",
      "neighborhood_Two Bridges             0.257426\n",
      "neighborhood_University Heights      0.049505\n",
      "neighborhood_Upper Carnegie Hill     0.455446\n",
      "neighborhood_Upper East Side         1.000000\n",
      "neighborhood_Upper West Side         1.000000\n",
      "neighborhood_Van Nest                0.000000\n",
      "neighborhood_Vinegar Hill            0.069307\n",
      "neighborhood_Wakefield               0.287129\n",
      "neighborhood_Washington Heights      0.980198\n",
      "neighborhood_Weeksville              0.861386\n",
      "neighborhood_West Brighton           0.000000\n",
      "neighborhood_West Chelsea            0.990099\n",
      "neighborhood_West Farms              0.000000\n",
      "neighborhood_West Harlem             0.029703\n",
      "neighborhood_West Village            0.980198\n",
      "neighborhood_Westchester Square      0.000000\n",
      "neighborhood_Westchester Village     0.000000\n",
      "neighborhood_Westerleigh             0.000000\n",
      "neighborhood_Whitestone              0.000000\n",
      "neighborhood_Williamsbridge          0.000000\n",
      "neighborhood_Williamsburg            0.673267\n",
      "neighborhood_Windsor Terrace         0.376238\n",
      "neighborhood_Wingate                 0.000000\n",
      "neighborhood_Woodhaven               0.000000\n",
      "neighborhood_Woodlawn                0.000000\n",
      "neighborhood_Woodside                0.851485\n",
      "neighborhood_Woodstock               0.000000\n",
      "neighborhood_Yorkville               1.000000\n",
      "Length: 264, dtype: float64\n"
     ]
    }
   ],
   "source": [
    "#check feature importance of neighborhoods\n",
    "#note that some zero coefficients, may that variance soaked up by interaction terms\n",
    "neighborhood_list = [i for i in coef_inter.columns if \"neighborhood\" in i]\n",
    "print '======='\n",
    "print p_nonzero[neighborhood_list]"
   ]
  }
 ],
 "metadata": {
  "kernelspec": {
   "display_name": "Python 2",
   "language": "python",
   "name": "python2"
  },
  "language_info": {
   "codemirror_mode": {
    "name": "ipython",
    "version": 2
   },
   "file_extension": ".py",
   "mimetype": "text/x-python",
   "name": "python",
   "nbconvert_exporter": "python",
   "pygments_lexer": "ipython2",
   "version": "2.7.12"
  }
 },
 "nbformat": 4,
 "nbformat_minor": 2
}
