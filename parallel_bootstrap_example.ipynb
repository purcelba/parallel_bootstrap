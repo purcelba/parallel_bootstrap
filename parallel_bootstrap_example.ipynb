{
 "cells": [
  {
   "cell_type": "markdown",
   "metadata": {
    "deletable": true,
    "editable": true
   },
   "source": [
    "# parallel_bootstrap example\n",
    "\n",
    "Load example output from parallel_bootstrap.  Five models were fitted to real-estate data obtained using the code in the streeteasy_scrape repository.  The output here was generated using code in bashBoot directory, but identical results can be obtained using code from the sparkBoot directory.  The details of the models are explained in the streeteasy_model repository.  Here, we will plot 95% confidence intervals on the model fit statistics (RMSE and R<sup>2</sup>) to evaluate the statistical significance of differences across models.   "
   ]
  },
  {
   "cell_type": "code",
   "execution_count": 71,
   "metadata": {
    "collapsed": true,
    "deletable": true,
    "editable": true
   },
   "outputs": [],
   "source": [
    "%matplotlib inline\n",
    "import pandas as pd\n",
    "import numpy as np\n",
    "import matplotlib.pyplot as plt\n",
    "import seaborn as sns\n",
    "from parallel_bootstrap import txt2df, predict, rmse_dist, r2_dist"
   ]
  },
  {
   "cell_type": "markdown",
   "metadata": {},
   "source": [
    "Get the distribution of RMSE and R<sup>2</sup> for each model."
   ]
  },
  {
   "cell_type": "code",
   "execution_count": 72,
   "metadata": {
    "collapsed": false,
    "deletable": true,
    "editable": true
   },
   "outputs": [
    {
     "name": "stdout",
     "output_type": "stream",
     "text": [
      "Now analyzing reduced... Finished.\n",
      "Now analyzing scraped... Finished.\n",
      "Now analyzing amen... Finished.\n",
      "Now analyzing trans... Finished.\n",
      "Now analyzing inter... Finished.\n"
     ]
    }
   ],
   "source": [
    "model_list = ['reduced','scraped','amen','trans','inter']\n",
    "coef = {}; info = {}; feats = {}; target = {}; pred = {}; rmse = {}; r2 = {}\n",
    "for m in model_list:\n",
    "    #display\n",
    "    print \"Now analyzing %s...\" % (m),\n",
    "    #format coefficients in dataframe\n",
    "    coef[m], info[m] = txt2df('example_output/bashBoot_output_%s_train.txt' % (m))\n",
    "    #load data\n",
    "    feats_temp = pd.read_csv('bashBoot/data/%s_feats.csv' % (m)).drop('Unnamed: 0',axis=1)\n",
    "    target_temp = pd.read_csv('bashBoot/data/%s_target.csv' % (m)).drop('Unnamed: 0',axis=1)\n",
    "    #reduce to only test set\n",
    "    feats[m]  = feats_temp[feats_temp['test_set'] == 1]\n",
    "    target[m] = target_temp[feats_temp['test_set'] == 1]\n",
    "    #drop column\n",
    "    feats[m] = feats[m].drop('test_set',axis=1)    \n",
    "    #generate predictions\n",
    "    pred[m] = predict(coef[m],feats[m])\n",
    "    #compute rmse distribution over bootstraps\n",
    "    rmse[m] = rmse_dist(target[m]['price'],pred[m])\n",
    "    #compute r2 distribution over bootstraps\n",
    "    r2[m] = r2_dist(target[m]['price'],pred[m])\n",
    "    #print\n",
    "    print \"Finished.\""
   ]
  },
  {
   "cell_type": "markdown",
   "metadata": {},
   "source": [
    "Compute the standard error and 95% confidence intervals (2-tailed) for RMSE and R<sup>2</sup>."
   ]
  },
  {
   "cell_type": "code",
   "execution_count": 53,
   "metadata": {
    "collapsed": false,
    "deletable": true,
    "editable": true
   },
   "outputs": [],
   "source": [
    "rmse_stats = {'mean': np.array([]), 'se': np.array([]), 'LB': np.array([]), 'UB': np.array([])}\n",
    "r2_stats = {'mean': np.array([]), 'se': np.array([]), 'LB': np.array([]), 'UB': np.array([])}\n",
    "for m in model_list:\n",
    "    rmse_stats['mean'] =  np.append(rmse_stats['mean'],np.mean(rmse[m]))\n",
    "    rmse_stats['se'] =  np.append(rmse_stats['se'],np.std(rmse[m]))\n",
    "    rmse_stats['LB'] =  np.append(rmse_stats['LB'],np.percentile(rmse[m],2.5))\n",
    "    rmse_stats['UB'] =  np.append(rmse_stats['UB'],np.percentile(rmse[m],97.5))\n",
    "    r2_stats['mean'] =  np.append(r2_stats['mean'],np.mean(r2[m]))\n",
    "    r2_stats['se'] =  np.append(r2_stats['se'],np.std(r2[m]))\n",
    "    r2_stats['LB'] =  np.append(r2_stats['LB'],np.percentile(r2[m],2.5))\n",
    "    r2_stats['UB'] =  np.append(r2_stats['UB'],np.percentile(r2[m],97.5))\n",
    "    "
   ]
  },
  {
   "cell_type": "markdown",
   "metadata": {},
   "source": [
    "### Summarize in tables"
   ]
  },
  {
   "cell_type": "markdown",
   "metadata": {},
   "source": [
    "RMSE"
   ]
  },
  {
   "cell_type": "code",
   "execution_count": 54,
   "metadata": {
    "collapsed": false
   },
   "outputs": [
    {
     "data": {
      "text/html": [
       "<div>\n",
       "<table border=\"1\" class=\"dataframe\">\n",
       "  <thead>\n",
       "    <tr style=\"text-align: right;\">\n",
       "      <th></th>\n",
       "      <th>95% CI (lower bound)</th>\n",
       "      <th>95% CI (upper bound)</th>\n",
       "      <th>Mean</th>\n",
       "      <th>Standard error</th>\n",
       "    </tr>\n",
       "  </thead>\n",
       "  <tbody>\n",
       "    <tr>\n",
       "      <th>reduced</th>\n",
       "      <td>1267.360383</td>\n",
       "      <td>1273.886184</td>\n",
       "      <td>1270.647768</td>\n",
       "      <td>1.794453</td>\n",
       "    </tr>\n",
       "    <tr>\n",
       "      <th>scraped</th>\n",
       "      <td>959.515808</td>\n",
       "      <td>964.675980</td>\n",
       "      <td>962.079568</td>\n",
       "      <td>1.316796</td>\n",
       "    </tr>\n",
       "    <tr>\n",
       "      <th>amen</th>\n",
       "      <td>876.808132</td>\n",
       "      <td>881.855295</td>\n",
       "      <td>879.441172</td>\n",
       "      <td>1.438867</td>\n",
       "    </tr>\n",
       "    <tr>\n",
       "      <th>trans</th>\n",
       "      <td>874.117474</td>\n",
       "      <td>879.719122</td>\n",
       "      <td>876.972675</td>\n",
       "      <td>1.539755</td>\n",
       "    </tr>\n",
       "    <tr>\n",
       "      <th>inter</th>\n",
       "      <td>747.381252</td>\n",
       "      <td>855.210794</td>\n",
       "      <td>768.629552</td>\n",
       "      <td>29.178826</td>\n",
       "    </tr>\n",
       "  </tbody>\n",
       "</table>\n",
       "</div>"
      ],
      "text/plain": [
       "         95% CI (lower bound)  95% CI (upper bound)         Mean  \\\n",
       "reduced           1267.360383           1273.886184  1270.647768   \n",
       "scraped            959.515808            964.675980   962.079568   \n",
       "amen               876.808132            881.855295   879.441172   \n",
       "trans              874.117474            879.719122   876.972675   \n",
       "inter              747.381252            855.210794   768.629552   \n",
       "\n",
       "         Standard error  \n",
       "reduced        1.794453  \n",
       "scraped        1.316796  \n",
       "amen           1.438867  \n",
       "trans          1.539755  \n",
       "inter         29.178826  "
      ]
     },
     "execution_count": 54,
     "metadata": {},
     "output_type": "execute_result"
    }
   ],
   "source": [
    "rmse_df = pd.DataFrame(rmse_stats)\n",
    "rmse_df.rename(columns = {'LB': '95% CI (lower bound)', 'UB':'95% CI (upper bound)','mean':'Mean','se':'Standard error'}, inplace = True)\n",
    "rmse_df.rename(index = {0: 'reduced', 1:'scraped',2:'amen',3:'trans',4:'inter'})"
   ]
  },
  {
   "cell_type": "markdown",
   "metadata": {},
   "source": [
    "R<sup>2</sup>"
   ]
  },
  {
   "cell_type": "code",
   "execution_count": 56,
   "metadata": {
    "collapsed": false
   },
   "outputs": [
    {
     "data": {
      "text/html": [
       "<div>\n",
       "<table border=\"1\" class=\"dataframe\">\n",
       "  <thead>\n",
       "    <tr style=\"text-align: right;\">\n",
       "      <th></th>\n",
       "      <th>95% CI (lower bound)</th>\n",
       "      <th>95% CI (upper bound)</th>\n",
       "      <th>Mean</th>\n",
       "      <th>Standard error</th>\n",
       "    </tr>\n",
       "  </thead>\n",
       "  <tbody>\n",
       "    <tr>\n",
       "      <th>reduced</th>\n",
       "      <td>0.483199</td>\n",
       "      <td>0.488480</td>\n",
       "      <td>0.485822</td>\n",
       "      <td>0.001452</td>\n",
       "    </tr>\n",
       "    <tr>\n",
       "      <th>scraped</th>\n",
       "      <td>0.703636</td>\n",
       "      <td>0.706798</td>\n",
       "      <td>0.705229</td>\n",
       "      <td>0.000807</td>\n",
       "    </tr>\n",
       "    <tr>\n",
       "      <th>amen</th>\n",
       "      <td>0.752339</td>\n",
       "      <td>0.755166</td>\n",
       "      <td>0.753693</td>\n",
       "      <td>0.000806</td>\n",
       "    </tr>\n",
       "    <tr>\n",
       "      <th>trans</th>\n",
       "      <td>0.753538</td>\n",
       "      <td>0.756666</td>\n",
       "      <td>0.755073</td>\n",
       "      <td>0.000860</td>\n",
       "    </tr>\n",
       "    <tr>\n",
       "      <th>inter</th>\n",
       "      <td>0.767013</td>\n",
       "      <td>0.822112</td>\n",
       "      <td>0.811582</td>\n",
       "      <td>0.015657</td>\n",
       "    </tr>\n",
       "  </tbody>\n",
       "</table>\n",
       "</div>"
      ],
      "text/plain": [
       "         95% CI (lower bound)  95% CI (upper bound)      Mean  Standard error\n",
       "reduced              0.483199              0.488480  0.485822        0.001452\n",
       "scraped              0.703636              0.706798  0.705229        0.000807\n",
       "amen                 0.752339              0.755166  0.753693        0.000806\n",
       "trans                0.753538              0.756666  0.755073        0.000860\n",
       "inter                0.767013              0.822112  0.811582        0.015657"
      ]
     },
     "execution_count": 56,
     "metadata": {},
     "output_type": "execute_result"
    }
   ],
   "source": [
    "r2_df = pd.DataFrame(r2_stats)\n",
    "r2_df.rename(columns = {'LB': '95% CI (lower bound)', 'UB':'95% CI (upper bound)','mean':'Mean','se':'Standard error'}, inplace = True)\n",
    "r2_df.rename(index = {0: 'reduced', 1:'scraped',2:'amen',3:'trans',4:'inter'})"
   ]
  },
  {
   "cell_type": "markdown",
   "metadata": {},
   "source": [
    "### Plot with error bars."
   ]
  },
  {
   "cell_type": "markdown",
   "metadata": {},
   "source": [
    "Plot RMSE for each model with standard error bars."
   ]
  },
  {
   "cell_type": "code",
   "execution_count": 67,
   "metadata": {
    "collapsed": false,
    "deletable": true,
    "editable": true
   },
   "outputs": [
    {
     "data": {
      "text/plain": [
       "<matplotlib.text.Text at 0x117e03cd0>"
      ]
     },
     "execution_count": 67,
     "metadata": {},
     "output_type": "execute_result"
    },
    {
     "data": {
      "image/png": "[encoded data removed]",
      "text/plain": [
       "<matplotlib.figure.Figure at 0x117e99450>"
      ]
     },
     "metadata": {},
     "output_type": "display_data"
    }
   ],
   "source": [
    "#RMSE bar plot with SE\n",
    "sns.set_style(\"ticks\")\n",
    "fig = plt.figure()\n",
    "ax = fig.add_axes([.2,.2,.4,.4])\n",
    "sns.despine()\n",
    "ind = np.arange(1,len(model_list)+1,1)\n",
    "w = 0.9\n",
    "ax.bar(ind,rmse_stats['mean'],yerr = rmse_stats['se'],width = w,\n",
    "       error_kw=dict(ecolor='k',lw=2))\n",
    "ax.set_ylim([600,1300])\n",
    "ax.set_xlim([min(ind)-(w/4),max(ind)+w+(w/4)])\n",
    "ax.set_xticks(ind+(w/2))\n",
    "ax.set_xticklabels(model_list,rotation=60)\n",
    "ax.set_ylabel('RMSE')"
   ]
  },
  {
   "cell_type": "markdown",
   "metadata": {},
   "source": [
    "Plot RMSE for each model with 95% CI error bars."
   ]
  },
  {
   "cell_type": "code",
   "execution_count": 68,
   "metadata": {
    "collapsed": false,
    "deletable": true,
    "editable": true
   },
   "outputs": [
    {
     "data": {
      "text/plain": [
       "<matplotlib.text.Text at 0x120585d10>"
      ]
     },
     "execution_count": 68,
     "metadata": {},
     "output_type": "execute_result"
    },
    {
     "data": {
      "image/png": "[encoded data removed]",
      "text/plain": [
       "<matplotlib.figure.Figure at 0x120482490>"
      ]
     },
     "metadata": {},
     "output_type": "display_data"
    }
   ],
   "source": [
    "#RMSE bar plot with 95% CIs\n",
    "sns.set_style(\"ticks\")\n",
    "fig = plt.figure()\n",
    "ax = fig.add_axes([.2,.2,.4,.4])\n",
    "sns.despine()\n",
    "ind = np.arange(1,len(model_list)+1,1)\n",
    "w = 0.9\n",
    "ax.bar(ind,rmse_stats['mean'],width=w,yerr = [rmse_stats['mean']-rmse_stats['LB'],rmse_stats['UB']-rmse_stats['mean']],\n",
    "       error_kw=dict(ecolor='k',lw=2))\n",
    "ax.set_ylim([600,1300])\n",
    "ax.set_xlim([min(ind)-(w/4),max(ind)+w+(w/4)])\n",
    "ax.set_xticks(ind+(w/2))\n",
    "ax.set_xticklabels(model_list,rotation=60)\n",
    "ax.set_ylabel('RMSE')"
   ]
  },
  {
   "cell_type": "markdown",
   "metadata": {},
   "source": [
    "Plot R<sup>2</sup> for each model with standard error bars."
   ]
  },
  {
   "cell_type": "code",
   "execution_count": 69,
   "metadata": {
    "collapsed": false,
    "deletable": true,
    "editable": true
   },
   "outputs": [
    {
     "data": {
      "text/plain": [
       "<matplotlib.text.Text at 0x1206a9310>"
      ]
     },
     "execution_count": 69,
     "metadata": {},
     "output_type": "execute_result"
    },
    {
     "data": {
      "image/png": "[encoded data removed]",
      "text/plain": [
       "<matplotlib.figure.Figure at 0x1205f7250>"
      ]
     },
     "metadata": {},
     "output_type": "display_data"
    }
   ],
   "source": [
    "sns.set_style(\"ticks\")\n",
    "fig = plt.figure()\n",
    "ax = fig.add_axes([.2,.2,.4,.4])\n",
    "sns.despine()\n",
    "ind = np.arange(1,len(model_list)+1,1)\n",
    "w = 0.9\n",
    "ax.bar(ind,r2_stats['mean'],yerr = [r2_stats['mean']-r2_stats['LB'],r2_stats['UB']-r2_stats['mean']],width=w,\n",
    "       error_kw=dict(ecolor='k',lw=2))\n",
    "ax.set_ylim([0.4,1])\n",
    "ax.set_xlim([min(ind)-(w/4),max(ind)+w+(w/4)])\n",
    "ax.set_xticks(ind+(w/2))\n",
    "ax.set_xticklabels(model_list,rotation=60)\n",
    "ax.set_ylabel('% Varianced explained')"
   ]
  },
  {
   "cell_type": "markdown",
   "metadata": {},
   "source": [
    "Plot R<sup>2</sup> for each model with 95% CI error bars."
   ]
  },
  {
   "cell_type": "code",
   "execution_count": 70,
   "metadata": {
    "collapsed": false
   },
   "outputs": [
    {
     "data": {
      "text/plain": [
       "<matplotlib.text.Text at 0x120797c50>"
      ]
     },
     "execution_count": 70,
     "metadata": {},
     "output_type": "execute_result"
    },
    {
     "data": {
      "image/png": "[encoded data removed]",
      "text/plain": [
       "<matplotlib.figure.Figure at 0x12055c710>"
      ]
     },
     "metadata": {},
     "output_type": "display_data"
    }
   ],
   "source": [
    "#RMSE bar plot with SE\n",
    "sns.set_style(\"ticks\")\n",
    "fig = plt.figure()\n",
    "ax = fig.add_axes([.2,.2,.4,.4])\n",
    "sns.despine()\n",
    "ind = np.arange(1,len(model_list)+1,1)\n",
    "w = 0.9\n",
    "ax.bar(ind,r2_stats['mean'],yerr = r2_stats['se'],width = w,\n",
    "       error_kw=dict(ecolor='k',lw=2))\n",
    "ax.set_ylim([.4,1])\n",
    "ax.set_xlim([min(ind)-(w/4),max(ind)+w+(w/4)])\n",
    "ax.set_xticks(ind+(w/2))\n",
    "ax.set_xticklabels(model_list,rotation=60)\n",
    "ax.set_ylabel('% Variance explained')"
   ]
  }
 ],
 "metadata": {
  "kernelspec": {
   "display_name": "Python 2",
   "language": "python",
   "name": "python2"
  },
  "language_info": {
   "codemirror_mode": {
    "name": "ipython",
    "version": 2
   },
   "file_extension": ".py",
   "mimetype": "text/x-python",
   "name": "python",
   "nbconvert_exporter": "python",
   "pygments_lexer": "ipython2",
   "version": "2.7.12"
  }
 },
 "nbformat": 4,
 "nbformat_minor": 2
}
